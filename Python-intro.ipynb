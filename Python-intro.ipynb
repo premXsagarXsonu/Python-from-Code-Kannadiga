{
 "cells": [
  {
   "cell_type": "code",
   "execution_count": null,
   "id": "6346cbd6",
   "metadata": {},
   "outputs": [],
   "source": [
    "#Welcome to Python Intro\n"
   ]
  },
  {
   "cell_type": "code",
   "execution_count": 2,
   "id": "d3390acc",
   "metadata": {},
   "outputs": [],
   "source": [
    "# What is Python?\n",
    "\n",
    "# Python is a popular programming language. It was created by Guido van Rossum, and released in 1991.\n",
    "\n",
    "# It is used for:\n",
    "\n",
    "# web development (server-side),\n",
    "# software development,\n",
    "# mathematics,\n",
    "# system scripting."
   ]
  },
  {
   "cell_type": "code",
   "execution_count": 3,
   "id": "e266c5aa",
   "metadata": {},
   "outputs": [],
   "source": [
    "# What can Python do?\n",
    "\n",
    "# Python can be used on a server to create web applications.\n",
    "# Python can be used alongside software to create workflows.\n",
    "# Python can connect to database systems. It can also read and modify files.\n",
    "# Python can be used to handle big data and perform complex mathematics.\n",
    "# Python can be used for rapid prototyping, or for production-ready software development."
   ]
  },
  {
   "cell_type": "code",
   "execution_count": 4,
   "id": "cb2e7e93",
   "metadata": {},
   "outputs": [],
   "source": [
    "# Why Python?\n",
    "\n",
    "# Python works on different platforms (Windows, Mac, Linux, Raspberry Pi, etc).\n",
    "# Python has a simple syntax similar to the English language.\n",
    "# Python has syntax that allows developers to write programs with fewer lines than some other programming languages.\n",
    "# Python runs on an interpreter system, meaning that code can be executed as soon as it is written. This means that prototyping can be very quick.\n",
    "# Python can be treated in a procedural way, an object-oriented way or a functional way."
   ]
  },
  {
   "cell_type": "code",
   "execution_count": null,
   "id": "0278dbb8",
   "metadata": {},
   "outputs": [],
   "source": [
    "# Python Syntax compared to other programming languages\n",
    "\n",
    "# Python was designed for readability, and has some similarities to the English language with influence from mathematics.\n",
    "# Python uses new lines to complete a command, as opposed to other programming languages which often use semicolons or parentheses.\n",
    "# Python relies on indentation, using whitespace, to define scope; such as the scope of loops, functions and classes. Other programming languages often use curly-brackets for this purpose."
   ]
  }
 ],
 "metadata": {
  "kernelspec": {
   "display_name": "Python 3 (ipykernel)",
   "language": "python",
   "name": "python3"
  },
  "language_info": {
   "codemirror_mode": {
    "name": "ipython",
    "version": 3
   },
   "file_extension": ".py",
   "mimetype": "text/x-python",
   "name": "python",
   "nbconvert_exporter": "python",
   "pygments_lexer": "ipython3",
   "version": "3.10.2"
  }
 },
 "nbformat": 4,
 "nbformat_minor": 5
}
